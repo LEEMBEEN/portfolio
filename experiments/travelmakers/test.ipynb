{
 "cells": [
  {
   "cell_type": "code",
   "execution_count": null,
   "id": "initial_id",
   "metadata": {
    "collapsed": true,
    "is_executing": true,
    "ExecuteTime": {
     "start_time": "2024-01-28T07:23:00.297273Z"
    }
   },
   "outputs": [],
   "source": [
    "import pandas as pd\n",
    "from google.oauth2 import service_account\n",
    "from google.cloud import bigquery\n",
    "import json\n",
    "\n",
    "with open('./secret_key/livinginhotel-334006-c751655abe0f.json') as f:\n",
    "    key = json.load(f)\n",
    "\n",
    "cd = service_account.Credentials.from_service_account_info(key)\n",
    "client = bigquery.Client(credentials = cd, project = cd.project_id)\n",
    "\n",
    "query = '''\n",
    "SELECT * \n",
    "FROM `livinginhotel-334006.analytics_343047555.events_*`\n",
    "WHERE _TABLE_SUFFIX >= '20230601'\n",
    "'''\n",
    "\n",
    "query_job = client.query(query)\n",
    "df = query_job.to_dataframe()\n",
    "df"
   ]
  },
  {
   "cell_type": "code",
   "outputs": [
    {
     "name": "stdout",
     "output_type": "stream",
     "text": [
      "migration complete\n"
     ]
    }
   ],
   "source": [
    "with open('./secret_key/travelmaker-data-9291e664034e.json') as f:\n",
    "    key = json.load(f)\n",
    "\n",
    "cd = service_account.Credentials.from_service_account_info(key)\n",
    "project_id = 'travelmaker-data'\n",
    "destination_table = ('travelmaker-data.db_data_mart.user')\n",
    "df.to_gbq(destination_table,project_id,if_exists='replace',credentials=cd) \n",
    "print('migration complete')"
   ],
   "metadata": {
    "collapsed": false,
    "ExecuteTime": {
     "end_time": "2024-01-28T07:09:07.157185Z",
     "start_time": "2024-01-28T07:09:03.744785Z"
    }
   },
   "id": "681773f0f66ffbdb",
   "execution_count": 10
  },
  {
   "cell_type": "code",
   "outputs": [],
   "source": [],
   "metadata": {
    "collapsed": false
   },
   "id": "4d98caa6514e202e"
  }
 ],
 "metadata": {
  "kernelspec": {
   "display_name": "Python 3",
   "language": "python",
   "name": "python3"
  },
  "language_info": {
   "codemirror_mode": {
    "name": "ipython",
    "version": 2
   },
   "file_extension": ".py",
   "mimetype": "text/x-python",
   "name": "python",
   "nbconvert_exporter": "python",
   "pygments_lexer": "ipython2",
   "version": "2.7.6"
  }
 },
 "nbformat": 4,
 "nbformat_minor": 5
}
