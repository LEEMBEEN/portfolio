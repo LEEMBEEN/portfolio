{
 "cells": [
  {
   "cell_type": "markdown",
   "source": [
    "# Simplying Option Test Result\n",
    "---"
   ],
   "metadata": {
    "collapsed": false
   },
   "id": "135f249c1b04b31e"
  },
  {
   "cell_type": "markdown",
   "source": [
    "### 요약\n",
    "---"
   ],
   "metadata": {
    "collapsed": false
   },
   "id": "e039a19b71e065d3"
  },
  {
   "cell_type": "markdown",
   "source": [
    "본 분석의 실험은 GrowthBook을 통해 23. 11. 02 ~ 23. 11. 22 까지 진행되었습니다. options 페이지 방문자 전원을 대상으로 진행되었으며, 상품 카드 선택 페이지를 제거하고 캘린더를 바로 띄우는 대안과 원안의 전환율을 비교하였습니다.<br><br>\n",
    "이를 통해 얻은 데이터를 전처리 과정을 통해 유효한 9802명의 데이터를 토대로 분석을 진행하였습니다.<br><br>\n",
    "옵션 선택 간소화의 효용을 확인하기 위한 목적으로 시행 되었습니다.<br><br>\n",
    "가설 검증을 위해서는 카이제곱검정을 진행하였습니다.<br><br>\n",
    "분석 결과 원안과 대안의 결제 페이지 전환율이 다르단 것이 확인 되었습니다.<br><br>\n",
    "이를 통해 옵션 선택 간소화가 결제페이지 전환에 영향을 미치는 것을 알 수 있었으며, 기존 유저들이 옵션 선택을 하는 동안 불편함을 느꼈기 때문에 작은 기능 추가로도 전환율을 상승키실 수 있던 것으로 추측할 수 있었습니다.<br><br>\n",
    "본 분석은 실험의 모수가 충분치 않고, 내재적 요인을 고려하지 않았으며, 기술 상 오류가 있을 수 있고, 결제 전환에서는 다른 결과를 초래할 수 있는 점, 실험이 장기간 진행된 점 때문에 실제에 바로 적용할 수 없습니다. 따라서 추가적인 후속 실험이 진행되어야 합니다."
   ],
   "metadata": {
    "collapsed": false
   },
   "id": "e20d9a4e077d3bb4"
  },
  {
   "cell_type": "markdown",
   "source": [
    "### 목차\n",
    "---"
   ],
   "metadata": {
    "collapsed": false
   },
   "id": "2c32dbc50e6df6e6"
  },
  {
   "cell_type": "markdown",
   "source": [
    "1. 가설<br>\n",
    "1-1) 가설 모델 (내재적 요인 포함)<br>\n",
    "1-2) 가설 모델 (실제 분석 모델)<br>\n",
    "1-3) 변수 정의<br>\n",
    "1-4) 실험 개요<br><br>\n",
    "2. Data<br>\n",
    "2-1) 전처리 SQL 쿼리<br>\n",
    "2-2) 분석 데이터<br><br>\n",
    "3. 가설 검정<br>\n",
    "3-1) 옵션 선택 간소화는 결제페이지 전환에 영향을 미칠 것이다.<br>\n",
    "3-2) 데이터 확인<br><br>\n",
    "4. 결과<br>\n",
    "4-1) 시사점<br>\n",
    "4-2) 한계점"
   ],
   "metadata": {
    "collapsed": false
   },
   "id": "69394559626f6a71"
  },
  {
   "cell_type": "markdown",
   "source": [
    "## 1. 가설\n",
    "---"
   ],
   "metadata": {
    "collapsed": false
   },
   "id": "a9a7676938019f8e"
  },
  {
   "cell_type": "markdown",
   "source": [
    "### 1-1) 가설 모델 (내재적 요인 포함)\n",
    "---"
   ],
   "metadata": {
    "collapsed": false
   },
   "id": "cf780f3cd1b3f51b"
  },
  {
   "cell_type": "code",
   "execution_count": 6,
   "outputs": [
    {
     "data": {
      "image/png": "[encoded data removed]",
      "text/plain": "<IPython.core.display.Image object>"
     },
     "execution_count": 6,
     "metadata": {},
     "output_type": "execute_result"
    }
   ],
   "source": [
    "from IPython.display import Image\n",
    "Image(filename='./image/옵션 간소화 실험-가설(내재적 요인 포함).drawio.png')"
   ],
   "metadata": {
    "collapsed": false,
    "ExecuteTime": {
     "end_time": "2023-11-23T12:40:02.961270500Z",
     "start_time": "2023-11-23T12:40:02.895269Z"
    }
   },
   "id": "f81afdc0e6237a0a"
  },
  {
   "cell_type": "markdown",
   "source": [
    "- H0: 옵션 선택 간소화는 결제페이지 전환에 영향을 미치지 않을 것이다.\n",
    "- H1: 옵션 선택 간소화는 결제페이지 전환에 영향을 미칠 것이다.\n",
    "    - H1-1-1: 옵션 선택 간소화는 유저의 스케줄 선택 편의에 영향을 미칠 것이다.\n",
    "    - H1-1-2: 옵션 선택 간소화는 유저의 스케줄 정보 인지 편의에 영향을 미칠 것이다.\n",
    "    - H1-1-3: 옵션 선택 간소화는 유저의 금액 정보 인지 편의에 영향을 미칠 것이다.\n",
    "    - H1-2-1: 유저의 스케줄 선택 편의는 결제 페이지 전환에 영향을 미칠 것이다.\n",
    "    - H1-2-2: 유저의 스케줄 정보 인지 편의는 결제 페이지 전환에 영향을 미칠 것이다.\n",
    "    - H1-2-3: 유저의 금액 정보 인지 편의는 결제 페이지 전환에 영향을 미칠 것이다."
   ],
   "metadata": {
    "collapsed": false
   },
   "id": "10420331f67a70d6"
  },
  {
   "cell_type": "markdown",
   "source": [
    "### 1-2) 가설 모델 (실제 분석 모델)\n",
    "---"
   ],
   "metadata": {
    "collapsed": false
   },
   "id": "a66e57c5a490bdb2"
  },
  {
   "cell_type": "code",
   "execution_count": 7,
   "outputs": [
    {
     "data": {
      "image/png": "[encoded data removed]",
      "text/plain": "<IPython.core.display.Image object>"
     },
     "execution_count": 7,
     "metadata": {},
     "output_type": "execute_result"
    }
   ],
   "source": [
    "Image(filename='./image/옵션 간소화 실험-가설(실제 분석 모델).drawio.png')"
   ],
   "metadata": {
    "collapsed": false,
    "ExecuteTime": {
     "end_time": "2023-11-23T12:40:03.052268300Z",
     "start_time": "2023-11-23T12:40:02.916269400Z"
    }
   },
   "id": "5e2f793546906aac"
  },
  {
   "cell_type": "markdown",
   "source": [
    "- H0: 옵션 선택 간소화는 결제페이지 전환에 영향을 미치지 않을 것이다.\n",
    "- H1: 옵션 선택 간소화는 결제페이지 전환에 영향을 미칠 것이다."
   ],
   "metadata": {
    "collapsed": false
   },
   "id": "2750a3fea2f48879"
  },
  {
   "cell_type": "markdown",
   "source": [
    "### 1-3) 변수 정의\n",
    "---"
   ],
   "metadata": {
    "collapsed": false
   },
   "id": "e02908bea42bfc86"
  },
  {
   "cell_type": "markdown",
   "source": [
    "- 옵션 선택 간소화: 상품 카드 선택을 제거하여 일정 선택, 룸타입 선택만 하면 결제가 가능하게 하는 기능\n",
    "- 스케줄 선택 편의: 원하는 상품의 일정을 선택할 수 있는 편의의 정도\n",
    "- 스케줄 정보 인지 편의: 원하는 상품의 일정을 학인할 수 있는 정보 인지의 편의 정도\n",
    "- 금액 정보 인지 편의: 원하는 상품의 금액을 학인할 수 있는 정보 인지의 편의 정도\n",
    "- 결제 페이지 전환: /payment 도메인 (결제 시작 단계)에 유저가 유입되는 것"
   ],
   "metadata": {
    "collapsed": false
   },
   "id": "15721be7e727e687"
  },
  {
   "cell_type": "markdown",
   "source": [
    "### 1-4) 실험 개요\n",
    "---"
   ],
   "metadata": {
    "collapsed": false
   },
   "id": "622db760068a949a"
  },
  {
   "cell_type": "markdown",
   "source": [
    "- 실험 기간: 2023.11.02~2023.11.22\n",
    "- 모집단: 호텔에삶 이용 고객 전체\n",
    "- 표본 집단: experiment_viewed가 발생한 모든 유저 (options 페이지 진입 유저)\n",
    "- 이상치 판단 기준\n",
    "    - control과 variation 모두 진입한 유저\n",
    "    - 어드민 유저\n",
    "    - 브리드 양양 진입 유저 (해당 호텔은 실험 미진행했기 때문에 이로 인한 영향을 최소화 하기 위해 삭제)\n",
    "- 데이터 소스: BigQuery\n",
    "- 실험 도구: GrowthBook\n",
    "- 유효 실험자 수: 9802명"
   ],
   "metadata": {
    "collapsed": false
   },
   "id": "bae36d42b08659dc"
  },
  {
   "cell_type": "markdown",
   "source": [
    "## 2. Data\n",
    "---"
   ],
   "metadata": {
    "collapsed": false
   },
   "id": "819739cbe80680e0"
  },
  {
   "cell_type": "markdown",
   "source": [
    "### 2-1) 전처리 SQL 쿼리\n",
    "---"
   ],
   "metadata": {
    "collapsed": false
   },
   "id": "444a259a9f7dc2a1"
  },
  {
   "cell_type": "markdown",
   "source": [
    "query.txt 파일 참조"
   ],
   "metadata": {
    "collapsed": false
   },
   "id": "e6ca336f9eb4fd3f"
  },
  {
   "cell_type": "markdown",
   "source": [
    "### 2-2) 분석 데이터\n",
    "---"
   ],
   "metadata": {
    "collapsed": false
   },
   "id": "bdab0f74becdcd17"
  },
  {
   "cell_type": "code",
   "execution_count": 8,
   "outputs": [
    {
     "data": {
      "text/plain": "           converted  not_converted\nvariation                          \nvariation         53           4880\ncontrol           30           4839",
      "text/html": "<div>\n<style scoped>\n    .dataframe tbody tr th:only-of-type {\n        vertical-align: middle;\n    }\n\n    .dataframe tbody tr th {\n        vertical-align: top;\n    }\n\n    .dataframe thead th {\n        text-align: right;\n    }\n</style>\n<table border=\"1\" class=\"dataframe\">\n  <thead>\n    <tr style=\"text-align: right;\">\n      <th></th>\n      <th>converted</th>\n      <th>not_converted</th>\n    </tr>\n    <tr>\n      <th>variation</th>\n      <th></th>\n      <th></th>\n    </tr>\n  </thead>\n  <tbody>\n    <tr>\n      <th>variation</th>\n      <td>53</td>\n      <td>4880</td>\n    </tr>\n    <tr>\n      <th>control</th>\n      <td>30</td>\n      <td>4839</td>\n    </tr>\n  </tbody>\n</table>\n</div>"
     },
     "execution_count": 8,
     "metadata": {},
     "output_type": "execute_result"
    }
   ],
   "source": [
    "from google.oauth2 import service_account\n",
    "from google.cloud import bigquery\n",
    "import json\n",
    "\n",
    "# 빅쿼리에서 실험 결과 불러오기\n",
    "with open('../secret_key/livinginhotel-334006-c751655abe0f.json') as f:\n",
    "    key = json.load(f)\n",
    "    \n",
    "cd = service_account.Credentials.from_service_account_info(key)\n",
    "client = bigquery.Client(credentials = cd, project = cd.project_id)\n",
    "\n",
    "# 전체 불러온 후 데이터프레임으로 가공\n",
    "query = 'SELECT * FROM livinginhotel-334006.experiment_data.simplying_option_test'\n",
    "query_job = client.query(query)\n",
    "df = query_job.to_dataframe()\n",
    "\n",
    "# 빅쿼리에서는 index 설정이 불가하므로 variation을 index로 설정\n",
    "df = df.set_index('variation')\n",
    "\n",
    "df"
   ],
   "metadata": {
    "collapsed": false,
    "ExecuteTime": {
     "end_time": "2023-11-23T12:40:05.111010100Z",
     "start_time": "2023-11-23T12:40:02.931268900Z"
    }
   },
   "id": "1849d76fe647bb34"
  },
  {
   "cell_type": "markdown",
   "source": [
    "## 3. 가설 검정\n",
    "---"
   ],
   "metadata": {
    "collapsed": false
   },
   "id": "dce26ebc46d9cc23"
  },
  {
   "cell_type": "markdown",
   "source": [
    "### 3-1) 옵션 선택 간소화는 결제페이지 전환에 영향을 미칠 것이다.\n",
    "---"
   ],
   "metadata": {
    "collapsed": false
   },
   "id": "e7f6fb2918de725b"
  },
  {
   "cell_type": "markdown",
   "source": [
    "- 카이제곱검정 시행"
   ],
   "metadata": {
    "collapsed": false
   },
   "id": "6cd31346f7779c20"
  },
  {
   "cell_type": "code",
   "execution_count": 9,
   "outputs": [
    {
     "name": "stdout",
     "output_type": "stream",
     "text": [
      "Chi-square test result:\n",
      "Chi-square statistic: 5.5951900835686\n",
      "P-value: 0.018009856799054536\n",
      "Degrees of freedom: 1\n",
      "Expected frequencies:\n",
      "[[  41.77096511 4891.22903489]\n",
      " [  41.22903489 4827.77096511]]\n"
     ]
    }
   ],
   "source": [
    "from scipy.stats import chi2_contingency\n",
    "\n",
    "chi2, p_val, dof, expected =  chi2_contingency(df)\n",
    "\n",
    "print(\"Chi-square test result:\")\n",
    "print(f\"Chi-square statistic: {chi2}\")\n",
    "print(f\"P-value: {p_val}\")\n",
    "print(f\"Degrees of freedom: {dof}\")\n",
    "print(\"Expected frequencies:\")\n",
    "print(expected)"
   ],
   "metadata": {
    "collapsed": false,
    "ExecuteTime": {
     "end_time": "2023-11-23T12:40:05.129010900Z",
     "start_time": "2023-11-23T12:40:05.109012Z"
    }
   },
   "id": "291e628e174333c1"
  },
  {
   "cell_type": "markdown",
   "source": [
    "**Result: 해당 가설을 채택합니다.**"
   ],
   "metadata": {
    "collapsed": false
   },
   "id": "19fff2b2382fcf68"
  },
  {
   "cell_type": "markdown",
   "source": [
    "### 3-2) 데이터 확인\n",
    "---"
   ],
   "metadata": {
    "collapsed": false
   },
   "id": "cb632ec820aa9062"
  },
  {
   "cell_type": "code",
   "execution_count": 10,
   "outputs": [
    {
     "data": {
      "text/plain": "<Figure size 700x500 with 1 Axes>",
      "image/png": "[encoded data removed]"
     },
     "metadata": {},
     "output_type": "display_data"
    },
    {
     "data": {
      "text/plain": "           converted  not_converted  conversion_rate\nvariation                                           \nvariation         53           4880         0.010744\ncontrol           30           4839         0.006161",
      "text/html": "<div>\n<style scoped>\n    .dataframe tbody tr th:only-of-type {\n        vertical-align: middle;\n    }\n\n    .dataframe tbody tr th {\n        vertical-align: top;\n    }\n\n    .dataframe thead th {\n        text-align: right;\n    }\n</style>\n<table border=\"1\" class=\"dataframe\">\n  <thead>\n    <tr style=\"text-align: right;\">\n      <th></th>\n      <th>converted</th>\n      <th>not_converted</th>\n      <th>conversion_rate</th>\n    </tr>\n    <tr>\n      <th>variation</th>\n      <th></th>\n      <th></th>\n      <th></th>\n    </tr>\n  </thead>\n  <tbody>\n    <tr>\n      <th>variation</th>\n      <td>53</td>\n      <td>4880</td>\n      <td>0.010744</td>\n    </tr>\n    <tr>\n      <th>control</th>\n      <td>30</td>\n      <td>4839</td>\n      <td>0.006161</td>\n    </tr>\n  </tbody>\n</table>\n</div>"
     },
     "execution_count": 10,
     "metadata": {},
     "output_type": "execute_result"
    }
   ],
   "source": [
    "import warnings\n",
    "warnings.filterwarnings(action='ignore')\n",
    "\n",
    "df['conversion_rate'] = df['converted'] / (df['converted'] + df['not_converted'])\n",
    "\n",
    "import seaborn as sns\n",
    "import matplotlib.pyplot as plt\n",
    "\n",
    "plt.figure(figsize=(7, 5))\n",
    "sns.set_theme(style=\"whitegrid\")\n",
    "sns.barplot(x='variation', y='conversion_rate', palette='binary', data= df)\n",
    "\n",
    "plt.show()\n",
    "df"
   ],
   "metadata": {
    "collapsed": false,
    "ExecuteTime": {
     "end_time": "2023-11-23T12:40:05.336009200Z",
     "start_time": "2023-11-23T12:40:05.125010100Z"
    }
   },
   "id": "bdeb42f731a3afad"
  },
  {
   "cell_type": "markdown",
   "source": [
    "**대안이 원안보다 약 1.7배 전환율이 높습니다.**"
   ],
   "metadata": {
    "collapsed": false
   },
   "id": "bac9c02a7df5220b"
  },
  {
   "cell_type": "markdown",
   "source": [
    "## 4. 결과\n",
    "---"
   ],
   "metadata": {
    "collapsed": false
   },
   "id": "7688c15ebefb8d77"
  },
  {
   "cell_type": "markdown",
   "source": [
    "### 4-1) 시사점\n",
    "---"
   ],
   "metadata": {
    "collapsed": false
   },
   "id": "6bceb0b7f3e9bf5a"
  },
  {
   "cell_type": "markdown",
   "source": [
    "본 분석의 시사점은 다음과 같습니다.<br><br>\n",
    "옵션 선택을 간소화 하는 것은 결제페이지 전환과 관계가 있을 것으로 예상됩니다. 현재까지 유저들은 상품 선택에 불편함을 느꼈으며, 이를 해소해주는 것이 옵션퍼널 하락에 일조할 가능성이 큽니다. 매우 간단한 부분을 간소화 시킨 것임에도 불구하고 대안이 전환율이 1.7배 높게 나온 것이므로, 적극적으로 불편함을 해소해주는 기능을 만들어주는 것은 프로덕트 전환에 큰 영향을 줄 것으로 예상됩니다.(결제 이벤트 발생자는 대안 11명, 원안 4명으로 2배 이상 대안이 높음)\n",
    "<br><br>\n",
    "따라서 다음과 같은 실험을 제언합니다.<br><br>\n",
    "1. 스케줄 선택 편의의 영향을 우선으로 하는 경우: 미리 스케줄 정보를 받은 후 자동으로 보여주는 실험<br>\n",
    "2. 스케줄 정보 인지 편의를 우선으로 하는 경우: 스케줄 정보를 토대로한 필터링 기능<br>\n",
    "3. 금액 정보 인지 편의를 우선으로 하는 경우: 금액 정보를 토대로한 필터링 기능<br><br>\n",
    "\n",
    "앞선 실험 모두 개발 리소스가 많이 들 것으로 예상되므로, 최소한의 기능으로 실험을 진행하는 것을 제언합니다."
   ],
   "metadata": {
    "collapsed": false
   },
   "id": "43e1d701310f1d24"
  },
  {
   "cell_type": "markdown",
   "source": [
    "### 4-2) 한계점\n",
    "---"
   ],
   "metadata": {
    "collapsed": false
   },
   "id": "4a554aca5995fdc7"
  },
  {
   "cell_type": "markdown",
   "source": [
    "본 분석의 한계점은 다음과 같습니다.<br><br>\n",
    "1. 실험의 모수가 충분하지 않았습니다. 초기 step의 이벤트의 경우는 비교적 많은 양을 획득할 수 있었지만, 전환과 관련된 이벤트의 많은 양의 데이터를 확보하지 못하였습니다. 이에 따라 전환과 관련된 실험 결과 해석에 있어서 오류가 발생할 수 있습니다.<br><br>\n",
    "\n",
    "2. 내재적 요인을 고려하지 않았습니다. 내재적 요인을 평가하기 위한 양적, 질적 연구가 결여된 상태의 실험이기 때문에 행동의 원인을 추측할 수 없습니다. 이에 따라 정확한 인과관계를 밝힐 수 없으며, 실험 결과 해석에 오류가 발생할 수 있습니다. 기존에 추측한 내재적 요인을 토대로 많은 후속실험이 필요합니다.<br><br>\n",
    "\n",
    "3. 본 실험은 대면으로 조사한 실험이 아니기 때문에 기술 상 오류가 있을 수 있습니다. GA4(BigQuery) 데이터 집계 과정, 전처리 과정에서 잘못된 데이터가 발생했을 수 있습니다. 또한 내부 직원의 데이터가 집계되었을 가능성이 있으며, 한 명의 유저가 다수의 유저로 인식될 가능성이 있습니다. 따라서 검정 데이터에 결점이 있을 수 있습니다.<br><br>\n",
    "\n",
    "4. 본 실험은 실제 전환과의 관계를 확인하기 위한 실험이 아니기 때문에, 실제로 적용했을 때 결제 전환에 미치는 영향을 파악하기 예상할 수 없습니다.<br><br>\n",
    "\n",
    "5. 본 실험은 장기간 진행되었기 때문에, 통제하지 못한 변인들이 영향을 줬을 수 있습니다. 따라서 실험 결과 해석에 오류가 있을 수 있습니다."
   ],
   "metadata": {
    "collapsed": false
   },
   "id": "dfe1d5ae63aa81e5"
  }
 ],
 "metadata": {
  "kernelspec": {
   "display_name": "Python 3 (ipykernel)",
   "language": "python",
   "name": "python3"
  },
  "language_info": {
   "codemirror_mode": {
    "name": "ipython",
    "version": 3
   },
   "file_extension": ".py",
   "mimetype": "text/x-python",
   "name": "python",
   "nbconvert_exporter": "python",
   "pygments_lexer": "ipython3",
   "version": "3.10.0"
  }
 },
 "nbformat": 4,
 "nbformat_minor": 5
}
